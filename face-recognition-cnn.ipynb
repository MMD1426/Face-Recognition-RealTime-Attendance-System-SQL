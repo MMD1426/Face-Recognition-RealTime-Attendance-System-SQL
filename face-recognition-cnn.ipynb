{
 "cells": [
  {
   "cell_type": "code",
   "execution_count": 1,
   "id": "4b331f1f",
   "metadata": {
    "_cell_guid": "b1076dfc-b9ad-4769-8c92-a6c4dae69d19",
    "_uuid": "8f2839f25d086af736a60e9eeb907d3b93b6e0e5",
    "execution": {
     "iopub.execute_input": "2024-07-19T09:32:13.271510Z",
     "iopub.status.busy": "2024-07-19T09:32:13.270799Z",
     "iopub.status.idle": "2024-07-19T09:32:25.257420Z",
     "shell.execute_reply": "2024-07-19T09:32:25.256450Z"
    },
    "papermill": {
     "duration": 11.995127,
     "end_time": "2024-07-19T09:32:25.259790",
     "exception": false,
     "start_time": "2024-07-19T09:32:13.264663",
     "status": "completed"
    },
    "tags": []
   },
   "outputs": [
    {
     "name": "stderr",
     "output_type": "stream",
     "text": [
      "2024-07-19 09:32:14.957518: E external/local_xla/xla/stream_executor/cuda/cuda_dnn.cc:9261] Unable to register cuDNN factory: Attempting to register factory for plugin cuDNN when one has already been registered\n",
      "2024-07-19 09:32:14.957624: E external/local_xla/xla/stream_executor/cuda/cuda_fft.cc:607] Unable to register cuFFT factory: Attempting to register factory for plugin cuFFT when one has already been registered\n",
      "2024-07-19 09:32:15.077783: E external/local_xla/xla/stream_executor/cuda/cuda_blas.cc:1515] Unable to register cuBLAS factory: Attempting to register factory for plugin cuBLAS when one has already been registered\n"
     ]
    }
   ],
   "source": [
    "import keras\n",
    "from tensorflow.keras.preprocessing.image import ImageDataGenerator\n",
    "import matplotlib.pyplot as plt\n",
    "from keras.callbacks import EarlyStopping"
   ]
  },
  {
   "cell_type": "code",
   "execution_count": 2,
   "id": "092f489b",
   "metadata": {
    "execution": {
     "iopub.execute_input": "2024-07-19T09:32:25.270847Z",
     "iopub.status.busy": "2024-07-19T09:32:25.269937Z",
     "iopub.status.idle": "2024-07-19T09:32:25.274466Z",
     "shell.execute_reply": "2024-07-19T09:32:25.273596Z"
    },
    "papermill": {
     "duration": 0.011744,
     "end_time": "2024-07-19T09:32:25.276374",
     "exception": false,
     "start_time": "2024-07-19T09:32:25.264630",
     "status": "completed"
    },
    "tags": []
   },
   "outputs": [],
   "source": [
    "data_gen = ImageDataGenerator(rescale=1/255,\n",
    "                          zoom_range=0.2,\n",
    "                          shear_range=0.2,\n",
    "                          validation_split=0.2,\n",
    ")"
   ]
  },
  {
   "cell_type": "code",
   "execution_count": 3,
   "id": "d714a1c2",
   "metadata": {
    "execution": {
     "iopub.execute_input": "2024-07-19T09:32:25.286271Z",
     "iopub.status.busy": "2024-07-19T09:32:25.285963Z",
     "iopub.status.idle": "2024-07-19T09:32:26.305587Z",
     "shell.execute_reply": "2024-07-19T09:32:26.304666Z"
    },
    "papermill": {
     "duration": 1.027159,
     "end_time": "2024-07-19T09:32:26.307857",
     "exception": false,
     "start_time": "2024-07-19T09:32:25.280698",
     "status": "completed"
    },
    "tags": []
   },
   "outputs": [
    {
     "name": "stdout",
     "output_type": "stream",
     "text": [
      "Found 14071 images belonging to 105 classes.\n"
     ]
    }
   ],
   "source": [
    "path = r'/kaggle/input/pins-face-recognition/105_classes_pins_dataset'\n",
    "train_data = data_gen.flow_from_directory(\n",
    "    path,\n",
    "    target_size=(160, 160),\n",
    "    batch_size = 100,\n",
    "    subset='training',\n",
    "    class_mode = 'categorical'\n",
    ")"
   ]
  },
  {
   "cell_type": "code",
   "execution_count": 4,
   "id": "9e34b395",
   "metadata": {
    "execution": {
     "iopub.execute_input": "2024-07-19T09:32:26.318518Z",
     "iopub.status.busy": "2024-07-19T09:32:26.318226Z",
     "iopub.status.idle": "2024-07-19T09:32:26.328722Z",
     "shell.execute_reply": "2024-07-19T09:32:26.328036Z"
    },
    "papermill": {
     "duration": 0.017828,
     "end_time": "2024-07-19T09:32:26.330688",
     "exception": false,
     "start_time": "2024-07-19T09:32:26.312860",
     "status": "completed"
    },
    "tags": []
   },
   "outputs": [
    {
     "data": {
      "text/plain": [
       "{'pins_Adriana Lima': 0,\n",
       " 'pins_Alex Lawther': 1,\n",
       " 'pins_Alexandra Daddario': 2,\n",
       " 'pins_Alvaro Morte': 3,\n",
       " 'pins_Amanda Crew': 4,\n",
       " 'pins_Andy Samberg': 5,\n",
       " 'pins_Anne Hathaway': 6,\n",
       " 'pins_Anthony Mackie': 7,\n",
       " 'pins_Avril Lavigne': 8,\n",
       " 'pins_Ben Affleck': 9,\n",
       " 'pins_Bill Gates': 10,\n",
       " 'pins_Bobby Morley': 11,\n",
       " 'pins_Brenton Thwaites': 12,\n",
       " 'pins_Brian J. Smith': 13,\n",
       " 'pins_Brie Larson': 14,\n",
       " 'pins_Chris Evans': 15,\n",
       " 'pins_Chris Hemsworth': 16,\n",
       " 'pins_Chris Pratt': 17,\n",
       " 'pins_Christian Bale': 18,\n",
       " 'pins_Cristiano Ronaldo': 19,\n",
       " 'pins_Danielle Panabaker': 20,\n",
       " 'pins_Dominic Purcell': 21,\n",
       " 'pins_Dwayne Johnson': 22,\n",
       " 'pins_Eliza Taylor': 23,\n",
       " 'pins_Elizabeth Lail': 24,\n",
       " 'pins_Emilia Clarke': 25,\n",
       " 'pins_Emma Stone': 26,\n",
       " 'pins_Emma Watson': 27,\n",
       " 'pins_Gwyneth Paltrow': 28,\n",
       " 'pins_Henry Cavil': 29,\n",
       " 'pins_Hugh Jackman': 30,\n",
       " 'pins_Inbar Lavi': 31,\n",
       " 'pins_Irina Shayk': 32,\n",
       " 'pins_Jake Mcdorman': 33,\n",
       " 'pins_Jason Momoa': 34,\n",
       " 'pins_Jennifer Lawrence': 35,\n",
       " 'pins_Jeremy Renner': 36,\n",
       " 'pins_Jessica Barden': 37,\n",
       " 'pins_Jimmy Fallon': 38,\n",
       " 'pins_Johnny Depp': 39,\n",
       " 'pins_Josh Radnor': 40,\n",
       " 'pins_Katharine Mcphee': 41,\n",
       " 'pins_Katherine Langford': 42,\n",
       " 'pins_Keanu Reeves': 43,\n",
       " 'pins_Krysten Ritter': 44,\n",
       " 'pins_Leonardo DiCaprio': 45,\n",
       " 'pins_Lili Reinhart': 46,\n",
       " 'pins_Lindsey Morgan': 47,\n",
       " 'pins_Lionel Messi': 48,\n",
       " 'pins_Logan Lerman': 49,\n",
       " 'pins_Madelaine Petsch': 50,\n",
       " 'pins_Maisie Williams': 51,\n",
       " 'pins_Maria Pedraza': 52,\n",
       " 'pins_Marie Avgeropoulos': 53,\n",
       " 'pins_Mark Ruffalo': 54,\n",
       " 'pins_Mark Zuckerberg': 55,\n",
       " 'pins_Megan Fox': 56,\n",
       " 'pins_Miley Cyrus': 57,\n",
       " 'pins_Millie Bobby Brown': 58,\n",
       " 'pins_Morena Baccarin': 59,\n",
       " 'pins_Morgan Freeman': 60,\n",
       " 'pins_Nadia Hilker': 61,\n",
       " 'pins_Natalie Dormer': 62,\n",
       " 'pins_Natalie Portman': 63,\n",
       " 'pins_Neil Patrick Harris': 64,\n",
       " 'pins_Pedro Alonso': 65,\n",
       " 'pins_Penn Badgley': 66,\n",
       " 'pins_Rami Malek': 67,\n",
       " 'pins_Rebecca Ferguson': 68,\n",
       " 'pins_Richard Harmon': 69,\n",
       " 'pins_Rihanna': 70,\n",
       " 'pins_Robert De Niro': 71,\n",
       " 'pins_Robert Downey Jr': 72,\n",
       " 'pins_Sarah Wayne Callies': 73,\n",
       " 'pins_Selena Gomez': 74,\n",
       " 'pins_Shakira Isabel Mebarak': 75,\n",
       " 'pins_Sophie Turner': 76,\n",
       " 'pins_Stephen Amell': 77,\n",
       " 'pins_Taylor Swift': 78,\n",
       " 'pins_Tom Cruise': 79,\n",
       " 'pins_Tom Hardy': 80,\n",
       " 'pins_Tom Hiddleston': 81,\n",
       " 'pins_Tom Holland': 82,\n",
       " 'pins_Tuppence Middleton': 83,\n",
       " 'pins_Ursula Corbero': 84,\n",
       " 'pins_Wentworth Miller': 85,\n",
       " 'pins_Zac Efron': 86,\n",
       " 'pins_Zendaya': 87,\n",
       " 'pins_Zoe Saldana': 88,\n",
       " 'pins_alycia dabnem carey': 89,\n",
       " 'pins_amber heard': 90,\n",
       " 'pins_barack obama': 91,\n",
       " 'pins_barbara palvin': 92,\n",
       " 'pins_camila mendes': 93,\n",
       " 'pins_elizabeth olsen': 94,\n",
       " 'pins_ellen page': 95,\n",
       " 'pins_elon musk': 96,\n",
       " 'pins_gal gadot': 97,\n",
       " 'pins_grant gustin': 98,\n",
       " 'pins_jeff bezos': 99,\n",
       " 'pins_kiernen shipka': 100,\n",
       " 'pins_margot robbie': 101,\n",
       " 'pins_melissa fumero': 102,\n",
       " 'pins_scarlett johansson': 103,\n",
       " 'pins_tom ellis': 104}"
      ]
     },
     "execution_count": 4,
     "metadata": {},
     "output_type": "execute_result"
    }
   ],
   "source": [
    "train_data.class_indices"
   ]
  },
  {
   "cell_type": "code",
   "execution_count": 5,
   "id": "1f6cbaf5",
   "metadata": {
    "execution": {
     "iopub.execute_input": "2024-07-19T09:32:26.341230Z",
     "iopub.status.busy": "2024-07-19T09:32:26.340946Z",
     "iopub.status.idle": "2024-07-19T09:32:26.644053Z",
     "shell.execute_reply": "2024-07-19T09:32:26.643350Z"
    },
    "papermill": {
     "duration": 0.310543,
     "end_time": "2024-07-19T09:32:26.645913",
     "exception": false,
     "start_time": "2024-07-19T09:32:26.335370",
     "status": "completed"
    },
    "tags": []
   },
   "outputs": [
    {
     "name": "stdout",
     "output_type": "stream",
     "text": [
      "Found 3463 images belonging to 105 classes.\n"
     ]
    }
   ],
   "source": [
    "path = r'/kaggle/input/pins-face-recognition/105_classes_pins_dataset'\n",
    "valid_data = data_gen.flow_from_directory(\n",
    "    path,\n",
    "    target_size=(160, 160),\n",
    "    batch_size = 100,\n",
    "    subset='validation',\n",
    "    class_mode = 'categorical'\n",
    ")"
   ]
  },
  {
   "cell_type": "code",
   "execution_count": 6,
   "id": "827176a5",
   "metadata": {
    "execution": {
     "iopub.execute_input": "2024-07-19T09:32:26.656426Z",
     "iopub.status.busy": "2024-07-19T09:32:26.656175Z",
     "iopub.status.idle": "2024-07-19T09:32:26.661510Z",
     "shell.execute_reply": "2024-07-19T09:32:26.660660Z"
    },
    "papermill": {
     "duration": 0.012647,
     "end_time": "2024-07-19T09:32:26.663337",
     "exception": false,
     "start_time": "2024-07-19T09:32:26.650690",
     "status": "completed"
    },
    "tags": []
   },
   "outputs": [
    {
     "name": "stdout",
     "output_type": "stream",
     "text": [
      "['Pins Adriana Lima', 'Pins Alex Lawther', 'Pins Alexandra Daddario', 'Pins Alvaro Morte', 'Pins Amanda Crew', 'Pins Andy Samberg', 'Pins Anne Hathaway', 'Pins Anthony Mackie', 'Pins Avril Lavigne', 'Pins Ben Affleck', 'Pins Bill Gates', 'Pins Bobby Morley', 'Pins Brenton Thwaites', 'Pins Brian J. Smith', 'Pins Brie Larson', 'Pins Chris Evans', 'Pins Chris Hemsworth', 'Pins Chris Pratt', 'Pins Christian Bale', 'Pins Cristiano Ronaldo', 'Pins Danielle Panabaker', 'Pins Dominic Purcell', 'Pins Dwayne Johnson', 'Pins Eliza Taylor', 'Pins Elizabeth Lail', 'Pins Emilia Clarke', 'Pins Emma Stone', 'Pins Emma Watson', 'Pins Gwyneth Paltrow', 'Pins Henry Cavil', 'Pins Hugh Jackman', 'Pins Inbar Lavi', 'Pins Irina Shayk', 'Pins Jake Mcdorman', 'Pins Jason Momoa', 'Pins Jennifer Lawrence', 'Pins Jeremy Renner', 'Pins Jessica Barden', 'Pins Jimmy Fallon', 'Pins Johnny Depp', 'Pins Josh Radnor', 'Pins Katharine Mcphee', 'Pins Katherine Langford', 'Pins Keanu Reeves', 'Pins Krysten Ritter', 'Pins Leonardo Dicaprio', 'Pins Lili Reinhart', 'Pins Lindsey Morgan', 'Pins Lionel Messi', 'Pins Logan Lerman', 'Pins Madelaine Petsch', 'Pins Maisie Williams', 'Pins Maria Pedraza', 'Pins Marie Avgeropoulos', 'Pins Mark Ruffalo', 'Pins Mark Zuckerberg', 'Pins Megan Fox', 'Pins Miley Cyrus', 'Pins Millie Bobby Brown', 'Pins Morena Baccarin', 'Pins Morgan Freeman', 'Pins Nadia Hilker', 'Pins Natalie Dormer', 'Pins Natalie Portman', 'Pins Neil Patrick Harris', 'Pins Pedro Alonso', 'Pins Penn Badgley', 'Pins Rami Malek', 'Pins Rebecca Ferguson', 'Pins Richard Harmon', 'Pins Rihanna', 'Pins Robert De Niro', 'Pins Robert Downey Jr', 'Pins Sarah Wayne Callies', 'Pins Selena Gomez', 'Pins Shakira Isabel Mebarak', 'Pins Sophie Turner', 'Pins Stephen Amell', 'Pins Taylor Swift', 'Pins Tom Cruise', 'Pins Tom Hardy', 'Pins Tom Hiddleston', 'Pins Tom Holland', 'Pins Tuppence Middleton', 'Pins Ursula Corbero', 'Pins Wentworth Miller', 'Pins Zac Efron', 'Pins Zendaya', 'Pins Zoe Saldana', 'Pins Alycia Dabnem Carey', 'Pins Amber Heard', 'Pins Barack Obama', 'Pins Barbara Palvin', 'Pins Camila Mendes', 'Pins Elizabeth Olsen', 'Pins Ellen Page', 'Pins Elon Musk', 'Pins Gal Gadot', 'Pins Grant Gustin', 'Pins Jeff Bezos', 'Pins Kiernen Shipka', 'Pins Margot Robbie', 'Pins Melissa Fumero', 'Pins Scarlett Johansson', 'Pins Tom Ellis']\n"
     ]
    }
   ],
   "source": [
    "names = []\n",
    "for k,v in train_data.class_indices.items():\n",
    "    k = str(k).split('_')\n",
    "    k = ' '.join(k)\n",
    "    k = k.title()\n",
    "    names.append(k)\n",
    "print(names)"
   ]
  },
  {
   "cell_type": "code",
   "execution_count": 7,
   "id": "6008fb52",
   "metadata": {
    "execution": {
     "iopub.execute_input": "2024-07-19T09:32:26.673919Z",
     "iopub.status.busy": "2024-07-19T09:32:26.673651Z",
     "iopub.status.idle": "2024-07-19T09:32:27.466821Z",
     "shell.execute_reply": "2024-07-19T09:32:27.466043Z"
    },
    "papermill": {
     "duration": 0.801103,
     "end_time": "2024-07-19T09:32:27.469199",
     "exception": false,
     "start_time": "2024-07-19T09:32:26.668096",
     "status": "completed"
    },
    "tags": []
   },
   "outputs": [
    {
     "name": "stderr",
     "output_type": "stream",
     "text": [
      "/opt/conda/lib/python3.10/site-packages/keras/src/layers/convolutional/base_conv.py:107: UserWarning: Do not pass an `input_shape`/`input_dim` argument to a layer. When using Sequential models, prefer using an `Input(shape)` object as the first layer in the model instead.\n",
      "  super().__init__(activity_regularizer=activity_regularizer, **kwargs)\n"
     ]
    }
   ],
   "source": [
    "model = keras.Sequential([\n",
    "    keras.layers.Conv2D(filters=64, kernel_size=3, activation='relu',input_shape=(160,160,3)),\n",
    "    keras.layers.Conv2D(filters=64, kernel_size=3, activation='relu'),\n",
    "    keras.layers.MaxPooling2D(pool_size=3, strides=2),\n",
    "\n",
    "    keras.layers.Conv2D(filters=128, kernel_size=3, activation='relu'),\n",
    "    keras.layers.Conv2D(filters=128, kernel_size=3, activation='relu'),\n",
    "    keras.layers.MaxPooling2D(pool_size=3, strides=2),\n",
    "\n",
    "    keras.layers.Conv2D(filters=256, kernel_size=3, activation='relu'),\n",
    "    keras.layers.Conv2D(filters=256, kernel_size=3, activation='relu'),\n",
    "    keras.layers.Conv2D(filters=256, kernel_size=3, activation='relu'),\n",
    "    keras.layers.MaxPooling2D(pool_size=3, strides=2),\n",
    "\n",
    "\n",
    "    keras.layers.Conv2D(filters=512, kernel_size=3, activation='relu'),\n",
    "    keras.layers.Conv2D(filters=512, kernel_size=3, activation='relu'),\n",
    "    keras.layers.Conv2D(filters=512, kernel_size=3, activation='relu'),\n",
    "    keras.layers.MaxPooling2D(pool_size=3, strides=2),\n",
    "\n",
    "\n",
    "    keras.layers.Conv2D(filters=1024, kernel_size=2, activation='relu'),\n",
    "    keras.layers.AveragePooling2D(pool_size=2, strides=1),\n",
    "\n",
    "    keras.layers.Flatten(),\n",
    "\n",
    "    keras.layers.Dense(units=128, activation='tanh'),\n",
    "\n",
    "    keras.layers.Dense(units=105, activation='softmax')\n",
    "\n",
    "])"
   ]
  },
  {
   "cell_type": "code",
   "execution_count": 8,
   "id": "c35348c4",
   "metadata": {
    "execution": {
     "iopub.execute_input": "2024-07-19T09:32:27.486644Z",
     "iopub.status.busy": "2024-07-19T09:32:27.486011Z",
     "iopub.status.idle": "2024-07-19T09:32:27.518154Z",
     "shell.execute_reply": "2024-07-19T09:32:27.517320Z"
    },
    "papermill": {
     "duration": 0.041481,
     "end_time": "2024-07-19T09:32:27.520069",
     "exception": false,
     "start_time": "2024-07-19T09:32:27.478588",
     "status": "completed"
    },
    "tags": []
   },
   "outputs": [
    {
     "data": {
      "text/html": [
       "<pre style=\"white-space:pre;overflow-x:auto;line-height:normal;font-family:Menlo,'DejaVu Sans Mono',consolas,'Courier New',monospace\"><span style=\"font-weight: bold\">Model: \"sequential\"</span>\n",
       "</pre>\n"
      ],
      "text/plain": [
       "\u001b[1mModel: \"sequential\"\u001b[0m\n"
      ]
     },
     "metadata": {},
     "output_type": "display_data"
    },
    {
     "data": {
      "text/html": [
       "<pre style=\"white-space:pre;overflow-x:auto;line-height:normal;font-family:Menlo,'DejaVu Sans Mono',consolas,'Courier New',monospace\">┏━━━━━━━━━━━━━━━━━━━━━━━━━━━━━━━━━┳━━━━━━━━━━━━━━━━━━━━━━━━┳━━━━━━━━━━━━━━━┓\n",
       "┃<span style=\"font-weight: bold\"> Layer (type)                    </span>┃<span style=\"font-weight: bold\"> Output Shape           </span>┃<span style=\"font-weight: bold\">       Param # </span>┃\n",
       "┡━━━━━━━━━━━━━━━━━━━━━━━━━━━━━━━━━╇━━━━━━━━━━━━━━━━━━━━━━━━╇━━━━━━━━━━━━━━━┩\n",
       "│ conv2d (<span style=\"color: #0087ff; text-decoration-color: #0087ff\">Conv2D</span>)                 │ (<span style=\"color: #00d7ff; text-decoration-color: #00d7ff\">None</span>, <span style=\"color: #00af00; text-decoration-color: #00af00\">158</span>, <span style=\"color: #00af00; text-decoration-color: #00af00\">158</span>, <span style=\"color: #00af00; text-decoration-color: #00af00\">64</span>)   │         <span style=\"color: #00af00; text-decoration-color: #00af00\">1,792</span> │\n",
       "├─────────────────────────────────┼────────────────────────┼───────────────┤\n",
       "│ conv2d_1 (<span style=\"color: #0087ff; text-decoration-color: #0087ff\">Conv2D</span>)               │ (<span style=\"color: #00d7ff; text-decoration-color: #00d7ff\">None</span>, <span style=\"color: #00af00; text-decoration-color: #00af00\">156</span>, <span style=\"color: #00af00; text-decoration-color: #00af00\">156</span>, <span style=\"color: #00af00; text-decoration-color: #00af00\">64</span>)   │        <span style=\"color: #00af00; text-decoration-color: #00af00\">36,928</span> │\n",
       "├─────────────────────────────────┼────────────────────────┼───────────────┤\n",
       "│ max_pooling2d (<span style=\"color: #0087ff; text-decoration-color: #0087ff\">MaxPooling2D</span>)    │ (<span style=\"color: #00d7ff; text-decoration-color: #00d7ff\">None</span>, <span style=\"color: #00af00; text-decoration-color: #00af00\">77</span>, <span style=\"color: #00af00; text-decoration-color: #00af00\">77</span>, <span style=\"color: #00af00; text-decoration-color: #00af00\">64</span>)     │             <span style=\"color: #00af00; text-decoration-color: #00af00\">0</span> │\n",
       "├─────────────────────────────────┼────────────────────────┼───────────────┤\n",
       "│ conv2d_2 (<span style=\"color: #0087ff; text-decoration-color: #0087ff\">Conv2D</span>)               │ (<span style=\"color: #00d7ff; text-decoration-color: #00d7ff\">None</span>, <span style=\"color: #00af00; text-decoration-color: #00af00\">75</span>, <span style=\"color: #00af00; text-decoration-color: #00af00\">75</span>, <span style=\"color: #00af00; text-decoration-color: #00af00\">128</span>)    │        <span style=\"color: #00af00; text-decoration-color: #00af00\">73,856</span> │\n",
       "├─────────────────────────────────┼────────────────────────┼───────────────┤\n",
       "│ conv2d_3 (<span style=\"color: #0087ff; text-decoration-color: #0087ff\">Conv2D</span>)               │ (<span style=\"color: #00d7ff; text-decoration-color: #00d7ff\">None</span>, <span style=\"color: #00af00; text-decoration-color: #00af00\">73</span>, <span style=\"color: #00af00; text-decoration-color: #00af00\">73</span>, <span style=\"color: #00af00; text-decoration-color: #00af00\">128</span>)    │       <span style=\"color: #00af00; text-decoration-color: #00af00\">147,584</span> │\n",
       "├─────────────────────────────────┼────────────────────────┼───────────────┤\n",
       "│ max_pooling2d_1 (<span style=\"color: #0087ff; text-decoration-color: #0087ff\">MaxPooling2D</span>)  │ (<span style=\"color: #00d7ff; text-decoration-color: #00d7ff\">None</span>, <span style=\"color: #00af00; text-decoration-color: #00af00\">36</span>, <span style=\"color: #00af00; text-decoration-color: #00af00\">36</span>, <span style=\"color: #00af00; text-decoration-color: #00af00\">128</span>)    │             <span style=\"color: #00af00; text-decoration-color: #00af00\">0</span> │\n",
       "├─────────────────────────────────┼────────────────────────┼───────────────┤\n",
       "│ conv2d_4 (<span style=\"color: #0087ff; text-decoration-color: #0087ff\">Conv2D</span>)               │ (<span style=\"color: #00d7ff; text-decoration-color: #00d7ff\">None</span>, <span style=\"color: #00af00; text-decoration-color: #00af00\">34</span>, <span style=\"color: #00af00; text-decoration-color: #00af00\">34</span>, <span style=\"color: #00af00; text-decoration-color: #00af00\">256</span>)    │       <span style=\"color: #00af00; text-decoration-color: #00af00\">295,168</span> │\n",
       "├─────────────────────────────────┼────────────────────────┼───────────────┤\n",
       "│ conv2d_5 (<span style=\"color: #0087ff; text-decoration-color: #0087ff\">Conv2D</span>)               │ (<span style=\"color: #00d7ff; text-decoration-color: #00d7ff\">None</span>, <span style=\"color: #00af00; text-decoration-color: #00af00\">32</span>, <span style=\"color: #00af00; text-decoration-color: #00af00\">32</span>, <span style=\"color: #00af00; text-decoration-color: #00af00\">256</span>)    │       <span style=\"color: #00af00; text-decoration-color: #00af00\">590,080</span> │\n",
       "├─────────────────────────────────┼────────────────────────┼───────────────┤\n",
       "│ conv2d_6 (<span style=\"color: #0087ff; text-decoration-color: #0087ff\">Conv2D</span>)               │ (<span style=\"color: #00d7ff; text-decoration-color: #00d7ff\">None</span>, <span style=\"color: #00af00; text-decoration-color: #00af00\">30</span>, <span style=\"color: #00af00; text-decoration-color: #00af00\">30</span>, <span style=\"color: #00af00; text-decoration-color: #00af00\">256</span>)    │       <span style=\"color: #00af00; text-decoration-color: #00af00\">590,080</span> │\n",
       "├─────────────────────────────────┼────────────────────────┼───────────────┤\n",
       "│ max_pooling2d_2 (<span style=\"color: #0087ff; text-decoration-color: #0087ff\">MaxPooling2D</span>)  │ (<span style=\"color: #00d7ff; text-decoration-color: #00d7ff\">None</span>, <span style=\"color: #00af00; text-decoration-color: #00af00\">14</span>, <span style=\"color: #00af00; text-decoration-color: #00af00\">14</span>, <span style=\"color: #00af00; text-decoration-color: #00af00\">256</span>)    │             <span style=\"color: #00af00; text-decoration-color: #00af00\">0</span> │\n",
       "├─────────────────────────────────┼────────────────────────┼───────────────┤\n",
       "│ conv2d_7 (<span style=\"color: #0087ff; text-decoration-color: #0087ff\">Conv2D</span>)               │ (<span style=\"color: #00d7ff; text-decoration-color: #00d7ff\">None</span>, <span style=\"color: #00af00; text-decoration-color: #00af00\">12</span>, <span style=\"color: #00af00; text-decoration-color: #00af00\">12</span>, <span style=\"color: #00af00; text-decoration-color: #00af00\">512</span>)    │     <span style=\"color: #00af00; text-decoration-color: #00af00\">1,180,160</span> │\n",
       "├─────────────────────────────────┼────────────────────────┼───────────────┤\n",
       "│ conv2d_8 (<span style=\"color: #0087ff; text-decoration-color: #0087ff\">Conv2D</span>)               │ (<span style=\"color: #00d7ff; text-decoration-color: #00d7ff\">None</span>, <span style=\"color: #00af00; text-decoration-color: #00af00\">10</span>, <span style=\"color: #00af00; text-decoration-color: #00af00\">10</span>, <span style=\"color: #00af00; text-decoration-color: #00af00\">512</span>)    │     <span style=\"color: #00af00; text-decoration-color: #00af00\">2,359,808</span> │\n",
       "├─────────────────────────────────┼────────────────────────┼───────────────┤\n",
       "│ conv2d_9 (<span style=\"color: #0087ff; text-decoration-color: #0087ff\">Conv2D</span>)               │ (<span style=\"color: #00d7ff; text-decoration-color: #00d7ff\">None</span>, <span style=\"color: #00af00; text-decoration-color: #00af00\">8</span>, <span style=\"color: #00af00; text-decoration-color: #00af00\">8</span>, <span style=\"color: #00af00; text-decoration-color: #00af00\">512</span>)      │     <span style=\"color: #00af00; text-decoration-color: #00af00\">2,359,808</span> │\n",
       "├─────────────────────────────────┼────────────────────────┼───────────────┤\n",
       "│ max_pooling2d_3 (<span style=\"color: #0087ff; text-decoration-color: #0087ff\">MaxPooling2D</span>)  │ (<span style=\"color: #00d7ff; text-decoration-color: #00d7ff\">None</span>, <span style=\"color: #00af00; text-decoration-color: #00af00\">3</span>, <span style=\"color: #00af00; text-decoration-color: #00af00\">3</span>, <span style=\"color: #00af00; text-decoration-color: #00af00\">512</span>)      │             <span style=\"color: #00af00; text-decoration-color: #00af00\">0</span> │\n",
       "├─────────────────────────────────┼────────────────────────┼───────────────┤\n",
       "│ conv2d_10 (<span style=\"color: #0087ff; text-decoration-color: #0087ff\">Conv2D</span>)              │ (<span style=\"color: #00d7ff; text-decoration-color: #00d7ff\">None</span>, <span style=\"color: #00af00; text-decoration-color: #00af00\">2</span>, <span style=\"color: #00af00; text-decoration-color: #00af00\">2</span>, <span style=\"color: #00af00; text-decoration-color: #00af00\">1024</span>)     │     <span style=\"color: #00af00; text-decoration-color: #00af00\">2,098,176</span> │\n",
       "├─────────────────────────────────┼────────────────────────┼───────────────┤\n",
       "│ average_pooling2d               │ (<span style=\"color: #00d7ff; text-decoration-color: #00d7ff\">None</span>, <span style=\"color: #00af00; text-decoration-color: #00af00\">1</span>, <span style=\"color: #00af00; text-decoration-color: #00af00\">1</span>, <span style=\"color: #00af00; text-decoration-color: #00af00\">1024</span>)     │             <span style=\"color: #00af00; text-decoration-color: #00af00\">0</span> │\n",
       "│ (<span style=\"color: #0087ff; text-decoration-color: #0087ff\">AveragePooling2D</span>)              │                        │               │\n",
       "├─────────────────────────────────┼────────────────────────┼───────────────┤\n",
       "│ flatten (<span style=\"color: #0087ff; text-decoration-color: #0087ff\">Flatten</span>)               │ (<span style=\"color: #00d7ff; text-decoration-color: #00d7ff\">None</span>, <span style=\"color: #00af00; text-decoration-color: #00af00\">1024</span>)           │             <span style=\"color: #00af00; text-decoration-color: #00af00\">0</span> │\n",
       "├─────────────────────────────────┼────────────────────────┼───────────────┤\n",
       "│ dense (<span style=\"color: #0087ff; text-decoration-color: #0087ff\">Dense</span>)                   │ (<span style=\"color: #00d7ff; text-decoration-color: #00d7ff\">None</span>, <span style=\"color: #00af00; text-decoration-color: #00af00\">128</span>)            │       <span style=\"color: #00af00; text-decoration-color: #00af00\">131,200</span> │\n",
       "├─────────────────────────────────┼────────────────────────┼───────────────┤\n",
       "│ dense_1 (<span style=\"color: #0087ff; text-decoration-color: #0087ff\">Dense</span>)                 │ (<span style=\"color: #00d7ff; text-decoration-color: #00d7ff\">None</span>, <span style=\"color: #00af00; text-decoration-color: #00af00\">105</span>)            │        <span style=\"color: #00af00; text-decoration-color: #00af00\">13,545</span> │\n",
       "└─────────────────────────────────┴────────────────────────┴───────────────┘\n",
       "</pre>\n"
      ],
      "text/plain": [
       "┏━━━━━━━━━━━━━━━━━━━━━━━━━━━━━━━━━┳━━━━━━━━━━━━━━━━━━━━━━━━┳━━━━━━━━━━━━━━━┓\n",
       "┃\u001b[1m \u001b[0m\u001b[1mLayer (type)                   \u001b[0m\u001b[1m \u001b[0m┃\u001b[1m \u001b[0m\u001b[1mOutput Shape          \u001b[0m\u001b[1m \u001b[0m┃\u001b[1m \u001b[0m\u001b[1m      Param #\u001b[0m\u001b[1m \u001b[0m┃\n",
       "┡━━━━━━━━━━━━━━━━━━━━━━━━━━━━━━━━━╇━━━━━━━━━━━━━━━━━━━━━━━━╇━━━━━━━━━━━━━━━┩\n",
       "│ conv2d (\u001b[38;5;33mConv2D\u001b[0m)                 │ (\u001b[38;5;45mNone\u001b[0m, \u001b[38;5;34m158\u001b[0m, \u001b[38;5;34m158\u001b[0m, \u001b[38;5;34m64\u001b[0m)   │         \u001b[38;5;34m1,792\u001b[0m │\n",
       "├─────────────────────────────────┼────────────────────────┼───────────────┤\n",
       "│ conv2d_1 (\u001b[38;5;33mConv2D\u001b[0m)               │ (\u001b[38;5;45mNone\u001b[0m, \u001b[38;5;34m156\u001b[0m, \u001b[38;5;34m156\u001b[0m, \u001b[38;5;34m64\u001b[0m)   │        \u001b[38;5;34m36,928\u001b[0m │\n",
       "├─────────────────────────────────┼────────────────────────┼───────────────┤\n",
       "│ max_pooling2d (\u001b[38;5;33mMaxPooling2D\u001b[0m)    │ (\u001b[38;5;45mNone\u001b[0m, \u001b[38;5;34m77\u001b[0m, \u001b[38;5;34m77\u001b[0m, \u001b[38;5;34m64\u001b[0m)     │             \u001b[38;5;34m0\u001b[0m │\n",
       "├─────────────────────────────────┼────────────────────────┼───────────────┤\n",
       "│ conv2d_2 (\u001b[38;5;33mConv2D\u001b[0m)               │ (\u001b[38;5;45mNone\u001b[0m, \u001b[38;5;34m75\u001b[0m, \u001b[38;5;34m75\u001b[0m, \u001b[38;5;34m128\u001b[0m)    │        \u001b[38;5;34m73,856\u001b[0m │\n",
       "├─────────────────────────────────┼────────────────────────┼───────────────┤\n",
       "│ conv2d_3 (\u001b[38;5;33mConv2D\u001b[0m)               │ (\u001b[38;5;45mNone\u001b[0m, \u001b[38;5;34m73\u001b[0m, \u001b[38;5;34m73\u001b[0m, \u001b[38;5;34m128\u001b[0m)    │       \u001b[38;5;34m147,584\u001b[0m │\n",
       "├─────────────────────────────────┼────────────────────────┼───────────────┤\n",
       "│ max_pooling2d_1 (\u001b[38;5;33mMaxPooling2D\u001b[0m)  │ (\u001b[38;5;45mNone\u001b[0m, \u001b[38;5;34m36\u001b[0m, \u001b[38;5;34m36\u001b[0m, \u001b[38;5;34m128\u001b[0m)    │             \u001b[38;5;34m0\u001b[0m │\n",
       "├─────────────────────────────────┼────────────────────────┼───────────────┤\n",
       "│ conv2d_4 (\u001b[38;5;33mConv2D\u001b[0m)               │ (\u001b[38;5;45mNone\u001b[0m, \u001b[38;5;34m34\u001b[0m, \u001b[38;5;34m34\u001b[0m, \u001b[38;5;34m256\u001b[0m)    │       \u001b[38;5;34m295,168\u001b[0m │\n",
       "├─────────────────────────────────┼────────────────────────┼───────────────┤\n",
       "│ conv2d_5 (\u001b[38;5;33mConv2D\u001b[0m)               │ (\u001b[38;5;45mNone\u001b[0m, \u001b[38;5;34m32\u001b[0m, \u001b[38;5;34m32\u001b[0m, \u001b[38;5;34m256\u001b[0m)    │       \u001b[38;5;34m590,080\u001b[0m │\n",
       "├─────────────────────────────────┼────────────────────────┼───────────────┤\n",
       "│ conv2d_6 (\u001b[38;5;33mConv2D\u001b[0m)               │ (\u001b[38;5;45mNone\u001b[0m, \u001b[38;5;34m30\u001b[0m, \u001b[38;5;34m30\u001b[0m, \u001b[38;5;34m256\u001b[0m)    │       \u001b[38;5;34m590,080\u001b[0m │\n",
       "├─────────────────────────────────┼────────────────────────┼───────────────┤\n",
       "│ max_pooling2d_2 (\u001b[38;5;33mMaxPooling2D\u001b[0m)  │ (\u001b[38;5;45mNone\u001b[0m, \u001b[38;5;34m14\u001b[0m, \u001b[38;5;34m14\u001b[0m, \u001b[38;5;34m256\u001b[0m)    │             \u001b[38;5;34m0\u001b[0m │\n",
       "├─────────────────────────────────┼────────────────────────┼───────────────┤\n",
       "│ conv2d_7 (\u001b[38;5;33mConv2D\u001b[0m)               │ (\u001b[38;5;45mNone\u001b[0m, \u001b[38;5;34m12\u001b[0m, \u001b[38;5;34m12\u001b[0m, \u001b[38;5;34m512\u001b[0m)    │     \u001b[38;5;34m1,180,160\u001b[0m │\n",
       "├─────────────────────────────────┼────────────────────────┼───────────────┤\n",
       "│ conv2d_8 (\u001b[38;5;33mConv2D\u001b[0m)               │ (\u001b[38;5;45mNone\u001b[0m, \u001b[38;5;34m10\u001b[0m, \u001b[38;5;34m10\u001b[0m, \u001b[38;5;34m512\u001b[0m)    │     \u001b[38;5;34m2,359,808\u001b[0m │\n",
       "├─────────────────────────────────┼────────────────────────┼───────────────┤\n",
       "│ conv2d_9 (\u001b[38;5;33mConv2D\u001b[0m)               │ (\u001b[38;5;45mNone\u001b[0m, \u001b[38;5;34m8\u001b[0m, \u001b[38;5;34m8\u001b[0m, \u001b[38;5;34m512\u001b[0m)      │     \u001b[38;5;34m2,359,808\u001b[0m │\n",
       "├─────────────────────────────────┼────────────────────────┼───────────────┤\n",
       "│ max_pooling2d_3 (\u001b[38;5;33mMaxPooling2D\u001b[0m)  │ (\u001b[38;5;45mNone\u001b[0m, \u001b[38;5;34m3\u001b[0m, \u001b[38;5;34m3\u001b[0m, \u001b[38;5;34m512\u001b[0m)      │             \u001b[38;5;34m0\u001b[0m │\n",
       "├─────────────────────────────────┼────────────────────────┼───────────────┤\n",
       "│ conv2d_10 (\u001b[38;5;33mConv2D\u001b[0m)              │ (\u001b[38;5;45mNone\u001b[0m, \u001b[38;5;34m2\u001b[0m, \u001b[38;5;34m2\u001b[0m, \u001b[38;5;34m1024\u001b[0m)     │     \u001b[38;5;34m2,098,176\u001b[0m │\n",
       "├─────────────────────────────────┼────────────────────────┼───────────────┤\n",
       "│ average_pooling2d               │ (\u001b[38;5;45mNone\u001b[0m, \u001b[38;5;34m1\u001b[0m, \u001b[38;5;34m1\u001b[0m, \u001b[38;5;34m1024\u001b[0m)     │             \u001b[38;5;34m0\u001b[0m │\n",
       "│ (\u001b[38;5;33mAveragePooling2D\u001b[0m)              │                        │               │\n",
       "├─────────────────────────────────┼────────────────────────┼───────────────┤\n",
       "│ flatten (\u001b[38;5;33mFlatten\u001b[0m)               │ (\u001b[38;5;45mNone\u001b[0m, \u001b[38;5;34m1024\u001b[0m)           │             \u001b[38;5;34m0\u001b[0m │\n",
       "├─────────────────────────────────┼────────────────────────┼───────────────┤\n",
       "│ dense (\u001b[38;5;33mDense\u001b[0m)                   │ (\u001b[38;5;45mNone\u001b[0m, \u001b[38;5;34m128\u001b[0m)            │       \u001b[38;5;34m131,200\u001b[0m │\n",
       "├─────────────────────────────────┼────────────────────────┼───────────────┤\n",
       "│ dense_1 (\u001b[38;5;33mDense\u001b[0m)                 │ (\u001b[38;5;45mNone\u001b[0m, \u001b[38;5;34m105\u001b[0m)            │        \u001b[38;5;34m13,545\u001b[0m │\n",
       "└─────────────────────────────────┴────────────────────────┴───────────────┘\n"
      ]
     },
     "metadata": {},
     "output_type": "display_data"
    },
    {
     "data": {
      "text/html": [
       "<pre style=\"white-space:pre;overflow-x:auto;line-height:normal;font-family:Menlo,'DejaVu Sans Mono',consolas,'Courier New',monospace\"><span style=\"font-weight: bold\"> Total params: </span><span style=\"color: #00af00; text-decoration-color: #00af00\">9,878,185</span> (37.68 MB)\n",
       "</pre>\n"
      ],
      "text/plain": [
       "\u001b[1m Total params: \u001b[0m\u001b[38;5;34m9,878,185\u001b[0m (37.68 MB)\n"
      ]
     },
     "metadata": {},
     "output_type": "display_data"
    },
    {
     "data": {
      "text/html": [
       "<pre style=\"white-space:pre;overflow-x:auto;line-height:normal;font-family:Menlo,'DejaVu Sans Mono',consolas,'Courier New',monospace\"><span style=\"font-weight: bold\"> Trainable params: </span><span style=\"color: #00af00; text-decoration-color: #00af00\">9,878,185</span> (37.68 MB)\n",
       "</pre>\n"
      ],
      "text/plain": [
       "\u001b[1m Trainable params: \u001b[0m\u001b[38;5;34m9,878,185\u001b[0m (37.68 MB)\n"
      ]
     },
     "metadata": {},
     "output_type": "display_data"
    },
    {
     "data": {
      "text/html": [
       "<pre style=\"white-space:pre;overflow-x:auto;line-height:normal;font-family:Menlo,'DejaVu Sans Mono',consolas,'Courier New',monospace\"><span style=\"font-weight: bold\"> Non-trainable params: </span><span style=\"color: #00af00; text-decoration-color: #00af00\">0</span> (0.00 B)\n",
       "</pre>\n"
      ],
      "text/plain": [
       "\u001b[1m Non-trainable params: \u001b[0m\u001b[38;5;34m0\u001b[0m (0.00 B)\n"
      ]
     },
     "metadata": {},
     "output_type": "display_data"
    }
   ],
   "source": [
    "model.summary()"
   ]
  },
  {
   "cell_type": "code",
   "execution_count": 9,
   "id": "84f8803e",
   "metadata": {
    "execution": {
     "iopub.execute_input": "2024-07-19T09:32:27.532914Z",
     "iopub.status.busy": "2024-07-19T09:32:27.532651Z",
     "iopub.status.idle": "2024-07-19T09:32:27.545348Z",
     "shell.execute_reply": "2024-07-19T09:32:27.544514Z"
    },
    "papermill": {
     "duration": 0.02133,
     "end_time": "2024-07-19T09:32:27.547275",
     "exception": false,
     "start_time": "2024-07-19T09:32:27.525945",
     "status": "completed"
    },
    "tags": []
   },
   "outputs": [],
   "source": [
    "model.compile(optimizer='adamax',loss=keras.losses.CategoricalCrossentropy(),metrics=['acc'])"
   ]
  },
  {
   "cell_type": "code",
   "execution_count": 10,
   "id": "80760f3a",
   "metadata": {
    "execution": {
     "iopub.execute_input": "2024-07-19T09:32:27.559874Z",
     "iopub.status.busy": "2024-07-19T09:32:27.559632Z",
     "iopub.status.idle": "2024-07-19T09:32:27.563292Z",
     "shell.execute_reply": "2024-07-19T09:32:27.562483Z"
    },
    "papermill": {
     "duration": 0.012131,
     "end_time": "2024-07-19T09:32:27.565229",
     "exception": false,
     "start_time": "2024-07-19T09:32:27.553098",
     "status": "completed"
    },
    "tags": []
   },
   "outputs": [],
   "source": [
    "early = EarlyStopping('val_loss',patience=10)"
   ]
  },
  {
   "cell_type": "code",
   "execution_count": 11,
   "id": "f5e20477",
   "metadata": {
    "execution": {
     "iopub.execute_input": "2024-07-19T09:32:27.578319Z",
     "iopub.status.busy": "2024-07-19T09:32:27.578008Z",
     "iopub.status.idle": "2024-07-19T10:56:28.682054Z",
     "shell.execute_reply": "2024-07-19T10:56:28.681132Z"
    },
    "papermill": {
     "duration": 5041.603017,
     "end_time": "2024-07-19T10:56:29.174056",
     "exception": false,
     "start_time": "2024-07-19T09:32:27.571039",
     "status": "completed"
    },
    "tags": []
   },
   "outputs": [
    {
     "name": "stdout",
     "output_type": "stream",
     "text": [
      "Epoch 1/60\n"
     ]
    },
    {
     "name": "stderr",
     "output_type": "stream",
     "text": [
      "/opt/conda/lib/python3.10/site-packages/keras/src/trainers/data_adapters/py_dataset_adapter.py:121: UserWarning: Your `PyDataset` class should call `super().__init__(**kwargs)` in its constructor. `**kwargs` can include `workers`, `use_multiprocessing`, `max_queue_size`. Do not pass these arguments to `fit()`, as they will be ignored.\n",
      "  self._warn_if_super_not_called()\n",
      "WARNING: All log messages before absl::InitializeLog() is called are written to STDERR\n",
      "I0000 00:00:1721381610.156631      82 device_compiler.h:186] Compiled cluster using XLA!  This line is logged at most once for the lifetime of the process.\n"
     ]
    },
    {
     "name": "stdout",
     "output_type": "stream",
     "text": [
      "\u001b[1m141/201\u001b[0m \u001b[32m━━━━━━━━━━━━━━\u001b[0m\u001b[37m━━━━━━\u001b[0m \u001b[1m1:12\u001b[0m 1s/step - acc: 0.0099 - loss: 4.6718"
     ]
    },
    {
     "name": "stderr",
     "output_type": "stream",
     "text": [
      "/opt/conda/lib/python3.10/contextlib.py:153: UserWarning: Your input ran out of data; interrupting training. Make sure that your dataset or generator can generate at least `steps_per_epoch * epochs` batches. You may need to use the `.repeat()` function when building your dataset.\n",
      "  self.gen.throw(typ, value, traceback)\n"
     ]
    },
    {
     "name": "stdout",
     "output_type": "stream",
     "text": [
      "\u001b[1m201/201\u001b[0m \u001b[32m━━━━━━━━━━━━━━━━━━━━\u001b[0m\u001b[37m\u001b[0m \u001b[1m276s\u001b[0m 1s/step - acc: 0.0099 - loss: 4.6648 - val_acc: 0.0130 - val_loss: 4.6232\n",
      "Epoch 2/60\n",
      "\u001b[1m201/201\u001b[0m \u001b[32m━━━━━━━━━━━━━━━━━━━━\u001b[0m\u001b[37m\u001b[0m \u001b[1m111s\u001b[0m 529ms/step - acc: 0.0142 - loss: 4.6113 - val_acc: 0.0240 - val_loss: 4.5568\n",
      "Epoch 3/60\n",
      "\u001b[1m201/201\u001b[0m \u001b[32m━━━━━━━━━━━━━━━━━━━━\u001b[0m\u001b[37m\u001b[0m \u001b[1m115s\u001b[0m 545ms/step - acc: 0.0287 - loss: 4.4444 - val_acc: 0.0491 - val_loss: 4.2853\n",
      "Epoch 4/60\n",
      "\u001b[1m201/201\u001b[0m \u001b[32m━━━━━━━━━━━━━━━━━━━━\u001b[0m\u001b[37m\u001b[0m \u001b[1m111s\u001b[0m 531ms/step - acc: 0.0688 - loss: 4.1071 - val_acc: 0.0811 - val_loss: 3.9965\n",
      "Epoch 5/60\n",
      "\u001b[1m201/201\u001b[0m \u001b[32m━━━━━━━━━━━━━━━━━━━━\u001b[0m\u001b[37m\u001b[0m \u001b[1m114s\u001b[0m 541ms/step - acc: 0.1099 - loss: 3.7511 - val_acc: 0.1100 - val_loss: 3.7759\n",
      "Epoch 6/60\n",
      "\u001b[1m201/201\u001b[0m \u001b[32m━━━━━━━━━━━━━━━━━━━━\u001b[0m\u001b[37m\u001b[0m \u001b[1m113s\u001b[0m 541ms/step - acc: 0.1708 - loss: 3.4172 - val_acc: 0.1681 - val_loss: 3.4660\n",
      "Epoch 7/60\n",
      "\u001b[1m201/201\u001b[0m \u001b[32m━━━━━━━━━━━━━━━━━━━━\u001b[0m\u001b[37m\u001b[0m \u001b[1m113s\u001b[0m 539ms/step - acc: 0.2343 - loss: 3.1190 - val_acc: 0.2186 - val_loss: 3.2308\n",
      "Epoch 8/60\n",
      "\u001b[1m201/201\u001b[0m \u001b[32m━━━━━━━━━━━━━━━━━━━━\u001b[0m\u001b[37m\u001b[0m \u001b[1m113s\u001b[0m 538ms/step - acc: 0.3027 - loss: 2.8325 - val_acc: 0.2662 - val_loss: 2.9717\n",
      "Epoch 9/60\n",
      "\u001b[1m201/201\u001b[0m \u001b[32m━━━━━━━━━━━━━━━━━━━━\u001b[0m\u001b[37m\u001b[0m \u001b[1m111s\u001b[0m 527ms/step - acc: 0.3625 - loss: 2.5587 - val_acc: 0.3162 - val_loss: 2.7820\n",
      "Epoch 10/60\n",
      "\u001b[1m201/201\u001b[0m \u001b[32m━━━━━━━━━━━━━━━━━━━━\u001b[0m\u001b[37m\u001b[0m \u001b[1m113s\u001b[0m 538ms/step - acc: 0.4185 - loss: 2.3285 - val_acc: 0.3497 - val_loss: 2.6461\n",
      "Epoch 11/60\n",
      "\u001b[1m201/201\u001b[0m \u001b[32m━━━━━━━━━━━━━━━━━━━━\u001b[0m\u001b[37m\u001b[0m \u001b[1m114s\u001b[0m 542ms/step - acc: 0.4725 - loss: 2.0744 - val_acc: 0.3919 - val_loss: 2.4877\n",
      "Epoch 12/60\n",
      "\u001b[1m201/201\u001b[0m \u001b[32m━━━━━━━━━━━━━━━━━━━━\u001b[0m\u001b[37m\u001b[0m \u001b[1m112s\u001b[0m 531ms/step - acc: 0.5311 - loss: 1.8464 - val_acc: 0.4176 - val_loss: 2.3771\n",
      "Epoch 13/60\n",
      "\u001b[1m201/201\u001b[0m \u001b[32m━━━━━━━━━━━━━━━━━━━━\u001b[0m\u001b[37m\u001b[0m \u001b[1m113s\u001b[0m 537ms/step - acc: 0.5961 - loss: 1.6133 - val_acc: 0.4600 - val_loss: 2.2194\n",
      "Epoch 14/60\n",
      "\u001b[1m201/201\u001b[0m \u001b[32m━━━━━━━━━━━━━━━━━━━━\u001b[0m\u001b[37m\u001b[0m \u001b[1m112s\u001b[0m 535ms/step - acc: 0.6503 - loss: 1.4015 - val_acc: 0.4531 - val_loss: 2.2030\n",
      "Epoch 15/60\n",
      "\u001b[1m201/201\u001b[0m \u001b[32m━━━━━━━━━━━━━━━━━━━━\u001b[0m\u001b[37m\u001b[0m \u001b[1m112s\u001b[0m 533ms/step - acc: 0.6895 - loss: 1.2622 - val_acc: 0.5313 - val_loss: 1.9225\n",
      "Epoch 16/60\n",
      "\u001b[1m201/201\u001b[0m \u001b[32m━━━━━━━━━━━━━━━━━━━━\u001b[0m\u001b[37m\u001b[0m \u001b[1m111s\u001b[0m 531ms/step - acc: 0.7382 - loss: 1.0700 - val_acc: 0.5227 - val_loss: 1.9274\n",
      "Epoch 17/60\n",
      "\u001b[1m201/201\u001b[0m \u001b[32m━━━━━━━━━━━━━━━━━━━━\u001b[0m\u001b[37m\u001b[0m \u001b[1m112s\u001b[0m 533ms/step - acc: 0.7805 - loss: 0.9167 - val_acc: 0.5322 - val_loss: 1.8786\n",
      "Epoch 18/60\n",
      "\u001b[1m201/201\u001b[0m \u001b[32m━━━━━━━━━━━━━━━━━━━━\u001b[0m\u001b[37m\u001b[0m \u001b[1m112s\u001b[0m 533ms/step - acc: 0.8073 - loss: 0.8059 - val_acc: 0.5622 - val_loss: 1.7964\n",
      "Epoch 19/60\n",
      "\u001b[1m201/201\u001b[0m \u001b[32m━━━━━━━━━━━━━━━━━━━━\u001b[0m\u001b[37m\u001b[0m \u001b[1m141s\u001b[0m 528ms/step - acc: 0.8329 - loss: 0.6957 - val_acc: 0.5475 - val_loss: 1.8630\n",
      "Epoch 20/60\n",
      "\u001b[1m201/201\u001b[0m \u001b[32m━━━━━━━━━━━━━━━━━━━━\u001b[0m\u001b[37m\u001b[0m \u001b[1m111s\u001b[0m 531ms/step - acc: 0.8655 - loss: 0.5954 - val_acc: 0.5787 - val_loss: 1.7342\n",
      "Epoch 21/60\n",
      "\u001b[1m201/201\u001b[0m \u001b[32m━━━━━━━━━━━━━━━━━━━━\u001b[0m\u001b[37m\u001b[0m \u001b[1m118s\u001b[0m 562ms/step - acc: 0.8946 - loss: 0.4825 - val_acc: 0.5810 - val_loss: 1.7271\n",
      "Epoch 22/60\n",
      "\u001b[1m201/201\u001b[0m \u001b[32m━━━━━━━━━━━━━━━━━━━━\u001b[0m\u001b[37m\u001b[0m \u001b[1m112s\u001b[0m 532ms/step - acc: 0.9117 - loss: 0.4119 - val_acc: 0.5871 - val_loss: 1.7334\n",
      "Epoch 23/60\n",
      "\u001b[1m201/201\u001b[0m \u001b[32m━━━━━━━━━━━━━━━━━━━━\u001b[0m\u001b[37m\u001b[0m \u001b[1m111s\u001b[0m 529ms/step - acc: 0.9223 - loss: 0.3620 - val_acc: 0.5824 - val_loss: 1.7035\n",
      "Epoch 24/60\n",
      "\u001b[1m201/201\u001b[0m \u001b[32m━━━━━━━━━━━━━━━━━━━━\u001b[0m\u001b[37m\u001b[0m \u001b[1m111s\u001b[0m 531ms/step - acc: 0.9367 - loss: 0.3084 - val_acc: 0.6194 - val_loss: 1.6100\n",
      "Epoch 25/60\n",
      "\u001b[1m201/201\u001b[0m \u001b[32m━━━━━━━━━━━━━━━━━━━━\u001b[0m\u001b[37m\u001b[0m \u001b[1m112s\u001b[0m 534ms/step - acc: 0.9480 - loss: 0.2638 - val_acc: 0.6119 - val_loss: 1.6294\n",
      "Epoch 26/60\n",
      "\u001b[1m201/201\u001b[0m \u001b[32m━━━━━━━━━━━━━━━━━━━━\u001b[0m\u001b[37m\u001b[0m \u001b[1m113s\u001b[0m 539ms/step - acc: 0.9560 - loss: 0.2266 - val_acc: 0.6162 - val_loss: 1.5977\n",
      "Epoch 27/60\n",
      "\u001b[1m201/201\u001b[0m \u001b[32m━━━━━━━━━━━━━━━━━━━━\u001b[0m\u001b[37m\u001b[0m \u001b[1m113s\u001b[0m 540ms/step - acc: 0.9629 - loss: 0.1942 - val_acc: 0.6050 - val_loss: 1.6362\n",
      "Epoch 28/60\n",
      "\u001b[1m201/201\u001b[0m \u001b[32m━━━━━━━━━━━━━━━━━━━━\u001b[0m\u001b[37m\u001b[0m \u001b[1m113s\u001b[0m 539ms/step - acc: 0.9666 - loss: 0.1757 - val_acc: 0.6177 - val_loss: 1.6230\n",
      "Epoch 29/60\n",
      "\u001b[1m201/201\u001b[0m \u001b[32m━━━━━━━━━━━━━━━━━━━━\u001b[0m\u001b[37m\u001b[0m \u001b[1m112s\u001b[0m 534ms/step - acc: 0.9760 - loss: 0.1430 - val_acc: 0.6217 - val_loss: 1.6433\n",
      "Epoch 30/60\n",
      "\u001b[1m201/201\u001b[0m \u001b[32m━━━━━━━━━━━━━━━━━━━━\u001b[0m\u001b[37m\u001b[0m \u001b[1m113s\u001b[0m 539ms/step - acc: 0.9785 - loss: 0.1242 - val_acc: 0.6362 - val_loss: 1.6441\n",
      "Epoch 31/60\n",
      "\u001b[1m201/201\u001b[0m \u001b[32m━━━━━━━━━━━━━━━━━━━━\u001b[0m\u001b[37m\u001b[0m \u001b[1m113s\u001b[0m 536ms/step - acc: 0.9756 - loss: 0.1300 - val_acc: 0.6197 - val_loss: 1.6614\n",
      "Epoch 32/60\n",
      "\u001b[1m201/201\u001b[0m \u001b[32m━━━━━━━━━━━━━━━━━━━━\u001b[0m\u001b[37m\u001b[0m \u001b[1m111s\u001b[0m 530ms/step - acc: 0.9780 - loss: 0.1215 - val_acc: 0.6203 - val_loss: 1.6641\n",
      "Epoch 33/60\n",
      "\u001b[1m201/201\u001b[0m \u001b[32m━━━━━━━━━━━━━━━━━━━━\u001b[0m\u001b[37m\u001b[0m \u001b[1m112s\u001b[0m 533ms/step - acc: 0.9779 - loss: 0.1218 - val_acc: 0.6376 - val_loss: 1.5890\n",
      "Epoch 34/60\n",
      "\u001b[1m201/201\u001b[0m \u001b[32m━━━━━━━━━━━━━━━━━━━━\u001b[0m\u001b[37m\u001b[0m \u001b[1m113s\u001b[0m 537ms/step - acc: 0.9788 - loss: 0.1046 - val_acc: 0.6333 - val_loss: 1.6268\n",
      "Epoch 35/60\n",
      "\u001b[1m201/201\u001b[0m \u001b[32m━━━━━━━━━━━━━━━━━━━━\u001b[0m\u001b[37m\u001b[0m \u001b[1m114s\u001b[0m 545ms/step - acc: 0.9866 - loss: 0.0794 - val_acc: 0.6168 - val_loss: 1.7189\n",
      "Epoch 36/60\n",
      "\u001b[1m201/201\u001b[0m \u001b[32m━━━━━━━━━━━━━━━━━━━━\u001b[0m\u001b[37m\u001b[0m \u001b[1m119s\u001b[0m 569ms/step - acc: 0.9861 - loss: 0.0822 - val_acc: 0.6321 - val_loss: 1.6614\n",
      "Epoch 37/60\n",
      "\u001b[1m201/201\u001b[0m \u001b[32m━━━━━━━━━━━━━━━━━━━━\u001b[0m\u001b[37m\u001b[0m \u001b[1m115s\u001b[0m 548ms/step - acc: 0.9840 - loss: 0.0823 - val_acc: 0.6414 - val_loss: 1.6425\n",
      "Epoch 38/60\n",
      "\u001b[1m201/201\u001b[0m \u001b[32m━━━━━━━━━━━━━━━━━━━━\u001b[0m\u001b[37m\u001b[0m \u001b[1m113s\u001b[0m 540ms/step - acc: 0.9879 - loss: 0.0715 - val_acc: 0.6312 - val_loss: 1.7006\n",
      "Epoch 39/60\n",
      "\u001b[1m201/201\u001b[0m \u001b[32m━━━━━━━━━━━━━━━━━━━━\u001b[0m\u001b[37m\u001b[0m \u001b[1m113s\u001b[0m 539ms/step - acc: 0.9833 - loss: 0.0828 - val_acc: 0.6292 - val_loss: 1.7060\n",
      "Epoch 40/60\n",
      "\u001b[1m201/201\u001b[0m \u001b[32m━━━━━━━━━━━━━━━━━━━━\u001b[0m\u001b[37m\u001b[0m \u001b[1m113s\u001b[0m 541ms/step - acc: 0.9892 - loss: 0.0596 - val_acc: 0.6376 - val_loss: 1.6452\n",
      "Epoch 41/60\n",
      "\u001b[1m201/201\u001b[0m \u001b[32m━━━━━━━━━━━━━━━━━━━━\u001b[0m\u001b[37m\u001b[0m \u001b[1m114s\u001b[0m 541ms/step - acc: 0.9900 - loss: 0.0542 - val_acc: 0.6463 - val_loss: 1.6056\n",
      "Epoch 42/60\n",
      "\u001b[1m201/201\u001b[0m \u001b[32m━━━━━━━━━━━━━━━━━━━━\u001b[0m\u001b[37m\u001b[0m \u001b[1m111s\u001b[0m 528ms/step - acc: 0.9913 - loss: 0.0522 - val_acc: 0.6258 - val_loss: 1.6874\n",
      "Epoch 43/60\n",
      "\u001b[1m201/201\u001b[0m \u001b[32m━━━━━━━━━━━━━━━━━━━━\u001b[0m\u001b[37m\u001b[0m \u001b[1m112s\u001b[0m 534ms/step - acc: 0.9802 - loss: 0.0917 - val_acc: 0.6110 - val_loss: 1.7938\n"
     ]
    }
   ],
   "source": [
    "hist = model.fit(train_data,epochs=60,steps_per_epoch=201,validation_data=valid_data,callbacks=[early],shuffle=True)"
   ]
  },
  {
   "cell_type": "code",
   "execution_count": 12,
   "id": "d189b712",
   "metadata": {
    "execution": {
     "iopub.execute_input": "2024-07-19T10:56:30.209056Z",
     "iopub.status.busy": "2024-07-19T10:56:30.208683Z",
     "iopub.status.idle": "2024-07-19T10:56:30.459635Z",
     "shell.execute_reply": "2024-07-19T10:56:30.458699Z"
    },
    "papermill": {
     "duration": 0.740003,
     "end_time": "2024-07-19T10:56:30.461701",
     "exception": false,
     "start_time": "2024-07-19T10:56:29.721698",
     "status": "completed"
    },
    "tags": []
   },
   "outputs": [
    {
     "data": {
      "image/png": "[encoded data removed]",
      "text/plain": [
       "<Figure size 640x480 with 1 Axes>"
      ]
     },
     "metadata": {},
     "output_type": "display_data"
    }
   ],
   "source": [
    "plt.plot(hist.history['acc'],color='r')\n",
    "plt.plot(hist.history['val_acc'],color='b')\n",
    "plt.legend(['acc','val_acc'])\n",
    "plt.show()"
   ]
  },
  {
   "cell_type": "code",
   "execution_count": 13,
   "id": "5627d4e2",
   "metadata": {
    "execution": {
     "iopub.execute_input": "2024-07-19T10:56:31.447166Z",
     "iopub.status.busy": "2024-07-19T10:56:31.446808Z",
     "iopub.status.idle": "2024-07-19T10:56:31.677768Z",
     "shell.execute_reply": "2024-07-19T10:56:31.676837Z"
    },
    "papermill": {
     "duration": 0.725477,
     "end_time": "2024-07-19T10:56:31.679894",
     "exception": false,
     "start_time": "2024-07-19T10:56:30.954417",
     "status": "completed"
    },
    "tags": []
   },
   "outputs": [
    {
     "data": {
      "image/png": "[encoded data removed]",
      "text/plain": [
       "<Figure size 640x480 with 1 Axes>"
      ]
     },
     "metadata": {},
     "output_type": "display_data"
    }
   ],
   "source": [
    "plt.plot(hist.history['loss'],color='r')\n",
    "plt.plot(hist.history['val_loss'],color='b')\n",
    "plt.legend(['loss','val_loss'])\n",
    "plt.show()"
   ]
  },
  {
   "cell_type": "code",
   "execution_count": 14,
   "id": "3a383699",
   "metadata": {
    "execution": {
     "iopub.execute_input": "2024-07-19T10:56:32.667466Z",
     "iopub.status.busy": "2024-07-19T10:56:32.666752Z",
     "iopub.status.idle": "2024-07-19T10:56:32.907721Z",
     "shell.execute_reply": "2024-07-19T10:56:32.906916Z"
    },
    "papermill": {
     "duration": 0.738255,
     "end_time": "2024-07-19T10:56:32.910093",
     "exception": false,
     "start_time": "2024-07-19T10:56:32.171838",
     "status": "completed"
    },
    "tags": []
   },
   "outputs": [],
   "source": [
    "model.save('model.h5')"
   ]
  }
 ],
 "metadata": {
  "kaggle": {
   "accelerator": "none",
   "dataSources": [
    {
     "datasetId": 543939,
     "sourceId": 992580,
     "sourceType": "datasetVersion"
    }
   ],
   "dockerImageVersionId": 30747,
   "isGpuEnabled": false,
   "isInternetEnabled": true,
   "language": "python",
   "sourceType": "notebook"
  },
  "kernelspec": {
   "display_name": "Python 3",
   "language": "python",
   "name": "python3"
  },
  "language_info": {
   "codemirror_mode": {
    "name": "ipython",
    "version": 3
   },
   "file_extension": ".py",
   "mimetype": "text/x-python",
   "name": "python",
   "nbconvert_exporter": "python",
   "pygments_lexer": "ipython3",
   "version": "3.10.13"
  },
  "papermill": {
   "default_parameters": {},
   "duration": 5065.769841,
   "end_time": "2024-07-19T10:56:36.306141",
   "environment_variables": {},
   "exception": null,
   "input_path": "__notebook__.ipynb",
   "output_path": "__notebook__.ipynb",
   "parameters": {},
   "start_time": "2024-07-19T09:32:10.536300",
   "version": "2.5.0"
  }
 },
 "nbformat": 4,
 "nbformat_minor": 5
}
